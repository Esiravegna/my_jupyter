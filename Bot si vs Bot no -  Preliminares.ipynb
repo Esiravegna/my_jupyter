{
 "cells": [
  {
   "cell_type": "markdown",
   "metadata": {},
   "source": [
    "# Bot Si vs Bot No: una aproximación usando métricas disponibles.\n",
    "\n",
    "Basados en el raw provisto por Yamila Abbas, se explora el concepto de si es viable separar bots vs personas, o bien cuentas con  ciertas caracteristicas across clusters de la investigación [dada](https://elgatoylacaja.com.ar/jugada-preparada/)"
   ]
  },
  {
   "cell_type": "code",
   "execution_count": 1,
   "metadata": {
    "collapsed": true
   },
   "outputs": [],
   "source": [
    "from __future__ import division\n",
    "\n",
    "import pandas as pd\n",
    "import numpy as np\n",
    "import itertools\n",
    "from sklearn import cross_validation\n",
    "import xgboost\n",
    "from sklearn import metrics\n",
    "%matplotlib inline\n",
    "import seaborn as sns\n",
    "import matplotlib.pyplot as plt"
   ]
  },
  {
   "cell_type": "code",
   "execution_count": 4,
   "metadata": {
    "collapsed": false
   },
   "outputs": [
    {
     "data": {
      "text/html": [
       "<div>\n",
       "<table border=\"1\" class=\"dataframe\">\n",
       "  <thead>\n",
       "    <tr style=\"text-align: right;\">\n",
       "      <th></th>\n",
       "      <th>Tweet ID</th>\n",
       "      <th>Text</th>\n",
       "      <th>Idioma</th>\n",
       "      <th>Source</th>\n",
       "      <th>User: ID</th>\n",
       "      <th>User:tweet count</th>\n",
       "      <th>User: followers</th>\n",
       "      <th>User: followings</th>\n",
       "      <th>User: time zone</th>\n",
       "      <th>Location</th>\n",
       "      <th>User: create date</th>\n",
       "      <th>Fecha</th>\n",
       "    </tr>\n",
       "  </thead>\n",
       "  <tbody>\n",
       "    <tr>\n",
       "      <th>0</th>\n",
       "      <td>811536603155939328</td>\n",
       "      <td>RT @rukhasgunsalu: El CONICET tiene 25000 empl...</td>\n",
       "      <td>es</td>\n",
       "      <td>&lt;a href=\"http://twitter.com/download/android\" ...</td>\n",
       "      <td>147424000</td>\n",
       "      <td>102964</td>\n",
       "      <td>1434</td>\n",
       "      <td>1605</td>\n",
       "      <td>NaN</td>\n",
       "      <td>ARGENTINA</td>\n",
       "      <td>2010-05-24 03:15:28</td>\n",
       "      <td>2016-12-21 08:39:38</td>\n",
       "    </tr>\n",
       "    <tr>\n",
       "      <th>1</th>\n",
       "      <td>811579120450732032</td>\n",
       "      <td>RT @rukhasgunsalu: El CONICET tiene 25000 empl...</td>\n",
       "      <td>es</td>\n",
       "      <td>&lt;a href=\"http://twitter.com/download/android\" ...</td>\n",
       "      <td>500388742</td>\n",
       "      <td>8539</td>\n",
       "      <td>295</td>\n",
       "      <td>648</td>\n",
       "      <td>Atlantic Time (Canada)</td>\n",
       "      <td>Lora´s Conch</td>\n",
       "      <td>2012-02-23 02:54:45</td>\n",
       "      <td>2016-12-21 11:28:35</td>\n",
       "    </tr>\n",
       "    <tr>\n",
       "      <th>2</th>\n",
       "      <td>811579285865713668</td>\n",
       "      <td>RT @rukhasgunsalu: El CONICET tiene 25000 empl...</td>\n",
       "      <td>es</td>\n",
       "      <td>&lt;a href=\"http://twitter.com/download/iphone\" r...</td>\n",
       "      <td>481419614</td>\n",
       "      <td>368</td>\n",
       "      <td>33</td>\n",
       "      <td>96</td>\n",
       "      <td>Buenos Aires</td>\n",
       "      <td>NaN</td>\n",
       "      <td>2012-02-02 18:41:57</td>\n",
       "      <td>2016-12-21 11:29:14</td>\n",
       "    </tr>\n",
       "    <tr>\n",
       "      <th>3</th>\n",
       "      <td>811579342451077120</td>\n",
       "      <td>RT @rukhasgunsalu: El CONICET tiene 25000 empl...</td>\n",
       "      <td>es</td>\n",
       "      <td>&lt;a href=\"http://twitter.com/download/iphone\" r...</td>\n",
       "      <td>387211339</td>\n",
       "      <td>1821</td>\n",
       "      <td>120</td>\n",
       "      <td>251</td>\n",
       "      <td>NaN</td>\n",
       "      <td>Laboulaye, Cba</td>\n",
       "      <td>2011-10-08 17:15:33</td>\n",
       "      <td>2016-12-21 11:29:28</td>\n",
       "    </tr>\n",
       "    <tr>\n",
       "      <th>4</th>\n",
       "      <td>811579437342932992</td>\n",
       "      <td>RT @rukhasgunsalu: El CONICET tiene 25000 empl...</td>\n",
       "      <td>es</td>\n",
       "      <td>&lt;a href=\"https://mobile.twitter.com\" rel=\"nofo...</td>\n",
       "      <td>4020276615</td>\n",
       "      <td>17105</td>\n",
       "      <td>19317</td>\n",
       "      <td>884</td>\n",
       "      <td>NaN</td>\n",
       "      <td>NaN</td>\n",
       "      <td>2015-10-22 23:47:47</td>\n",
       "      <td>2016-12-21 11:29:50</td>\n",
       "    </tr>\n",
       "  </tbody>\n",
       "</table>\n",
       "</div>"
      ],
      "text/plain": [
       "             Tweet ID                                               Text  \\\n",
       "0  811536603155939328  RT @rukhasgunsalu: El CONICET tiene 25000 empl...   \n",
       "1  811579120450732032  RT @rukhasgunsalu: El CONICET tiene 25000 empl...   \n",
       "2  811579285865713668  RT @rukhasgunsalu: El CONICET tiene 25000 empl...   \n",
       "3  811579342451077120  RT @rukhasgunsalu: El CONICET tiene 25000 empl...   \n",
       "4  811579437342932992  RT @rukhasgunsalu: El CONICET tiene 25000 empl...   \n",
       "\n",
       "  Idioma                                             Source    User: ID  \\\n",
       "0     es  <a href=\"http://twitter.com/download/android\" ...   147424000   \n",
       "1     es  <a href=\"http://twitter.com/download/android\" ...   500388742   \n",
       "2     es  <a href=\"http://twitter.com/download/iphone\" r...   481419614   \n",
       "3     es  <a href=\"http://twitter.com/download/iphone\" r...   387211339   \n",
       "4     es  <a href=\"https://mobile.twitter.com\" rel=\"nofo...  4020276615   \n",
       "\n",
       "   User:tweet count  User: followers  User: followings  \\\n",
       "0            102964             1434              1605   \n",
       "1              8539              295               648   \n",
       "2               368               33                96   \n",
       "3              1821              120               251   \n",
       "4             17105            19317               884   \n",
       "\n",
       "          User: time zone        Location   User: create date  \\\n",
       "0                     NaN       ARGENTINA 2010-05-24 03:15:28   \n",
       "1  Atlantic Time (Canada)    Lora´s Conch 2012-02-23 02:54:45   \n",
       "2            Buenos Aires             NaN 2012-02-02 18:41:57   \n",
       "3                     NaN  Laboulaye, Cba 2011-10-08 17:15:33   \n",
       "4                     NaN             NaN 2015-10-22 23:47:47   \n",
       "\n",
       "               Fecha   \n",
       "0 2016-12-21 08:39:38  \n",
       "1 2016-12-21 11:28:35  \n",
       "2 2016-12-21 11:29:14  \n",
       "3 2016-12-21 11:29:28  \n",
       "4 2016-12-21 11:29:50  "
      ]
     },
     "execution_count": 4,
     "metadata": {},
     "output_type": "execute_result"
    }
   ],
   "source": [
    "## Carguemos el corpus\n",
    "corpus = pd.read_excel('/home/esteban/data/la_caja_del_gato/BD_MTIONS_CONICET201612.xlsx')\n",
    "## Se cargó bien? \n",
    "corpus.head(5)"
   ]
  },
  {
   "cell_type": "code",
   "execution_count": 27,
   "metadata": {
    "collapsed": false
   },
   "outputs": [],
   "source": [
    "# A ver cómo sale un ratio bayesiano de la distribución de siguiendo/me sigue\n",
    "corpus['followers_followed_ratio'] =  (corpus['User: followings'] + 1) / (corpus['User: followers'] + 2)"
   ]
  },
  {
   "cell_type": "code",
   "execution_count": 28,
   "metadata": {
    "collapsed": false
   },
   "outputs": [
    {
     "data": {
      "text/plain": [
       "count    92130.000000\n",
       "mean         1.804576\n",
       "std          2.020427\n",
       "min          0.000031\n",
       "25%          0.782439\n",
       "50%          1.238188\n",
       "75%          2.196721\n",
       "max        143.800000\n",
       "Name: followers_followed_ratio, dtype: float64"
      ]
     },
     "execution_count": 28,
     "metadata": {},
     "output_type": "execute_result"
    }
   ],
   "source": [
    "corpus['followers_followed_ratio'].describe()"
   ]
  },
  {
   "cell_type": "code",
   "execution_count": 30,
   "metadata": {
    "collapsed": false
   },
   "outputs": [
    {
     "data": {
      "text/plain": [
       "<matplotlib.axes._subplots.AxesSubplot at 0xa6b1e950>"
      ]
     },
     "execution_count": 30,
     "metadata": {},
     "output_type": "execute_result"
    },
    {
     "data": {
      "image/png": "[encoded data removed]",
      "text/plain": [
       "<matplotlib.figure.Figure at 0xa6a9c2f0>"
      ]
     },
     "metadata": {},
     "output_type": "display_data"
    }
   ],
   "source": [
    "sns.distplot(corpus['followers_followed_ratio'])"
   ]
  },
  {
   "cell_type": "markdown",
   "metadata": {
    "collapsed": true
   },
   "source": [
    "La distribución sería menos normal que tu vieja en tanga. No se recomienda: hay que pegarle al API de twitter para sacar los retweets según [Tweets as impact indicators: Examining the implications of\n",
    "automated “bot” accounts on Twitter ](https://pdfs.semanticscholar.org/c4db/d691ce21cea3af03d047b56580875cf1a8a1.pdf) a ver si se puede sacar algo útil.\n",
    "Probemos al revés:"
   ]
  },
  {
   "cell_type": "code",
   "execution_count": 38,
   "metadata": {
    "collapsed": false
   },
   "outputs": [
    {
     "data": {
      "text/plain": [
       "count    92130.000000\n",
       "mean         8.326066\n",
       "std        208.712748\n",
       "min          0.005556\n",
       "25%          0.449094\n",
       "50%          0.802532\n",
       "75%          1.272727\n",
       "max      31981.945946\n",
       "Name: followers_followed_ratio, dtype: float64"
      ]
     },
     "execution_count": 38,
     "metadata": {},
     "output_type": "execute_result"
    }
   ],
   "source": [
    "corpus['followers_followed_ratio'] =  (corpus['User: followers'] + 1) / (corpus['User: followings'] + 2)\n",
    "corpus['followers_followed_ratio'].describe()"
   ]
  },
  {
   "cell_type": "code",
   "execution_count": 39,
   "metadata": {
    "collapsed": false
   },
   "outputs": [
    {
     "data": {
      "text/plain": [
       "<matplotlib.axes._subplots.AxesSubplot at 0xa827cbd0>"
      ]
     },
     "execution_count": 39,
     "metadata": {},
     "output_type": "execute_result"
    },
    {
     "data": {
      "image/png": "[encoded data removed]",
      "text/plain": [
       "<matplotlib.figure.Figure at 0xa8145fb0>"
      ]
     },
     "metadata": {},
     "output_type": "display_data"
    }
   ],
   "source": [
    "sns.distplot(corpus['followers_followed_ratio'])"
   ]
  },
  {
   "cell_type": "markdown",
   "metadata": {},
   "source": [
    "Tampco. Esa métrica no estaría siendo estadísticamente significante para este corpus.\n",
    "Veamos que surge de un análisis de obtener las métricas básicas del paper antes citado"
   ]
  },
  {
   "cell_type": "code",
   "execution_count": 58,
   "metadata": {
    "collapsed": false
   },
   "outputs": [
    {
     "data": {
      "text/plain": [
       "count    92130.000000\n",
       "mean      1527.452698\n",
       "std        830.028944\n",
       "min          0.021632\n",
       "25%        796.187199\n",
       "50%       1621.760046\n",
       "75%       2284.134566\n",
       "max       3602.685116\n",
       "Name: days, dtype: float64"
      ]
     },
     "execution_count": 58,
     "metadata": {},
     "output_type": "execute_result"
    }
   ],
   "source": [
    "# creemos una columna con los días desde que la cuenta se creó hasta el relevamiento\n",
    "corpus['days'] =  corpus['Fecha '] - corpus['User: create date']\n",
    "corpus['days'] = corpus['days'] / np.timedelta64(1, 'D')\n",
    "corpus.loc[corpus['days'] < 0, 'days'] = 1 \n",
    "corpus.days.describe()"
   ]
  },
  {
   "cell_type": "code",
   "execution_count": 59,
   "metadata": {
    "collapsed": false
   },
   "outputs": [
    {
     "data": {
      "text/plain": [
       "<matplotlib.axes._subplots.AxesSubplot at 0xa87ad550>"
      ]
     },
     "execution_count": 59,
     "metadata": {},
     "output_type": "execute_result"
    },
    {
     "data": {
      "image/png": "[encoded data removed]",
      "text/plain": [
       "<matplotlib.figure.Figure at 0xa7b0d830>"
      ]
     },
     "metadata": {},
     "output_type": "display_data"
    }
   ],
   "source": [
    "sns.distplot(corpus.days)"
   ]
  },
  {
   "cell_type": "markdown",
   "metadata": {},
   "source": [
    "AHORA SI. Como decíamos en en análsis preliminar, la cantidad de días de creación de la fecha es un buen indicador.\n",
    "Saquemos ahora la cantidad de twits por día\n",
    "\n",
    "## Twits por Día"
   ]
  },
  {
   "cell_type": "code",
   "execution_count": 115,
   "metadata": {
    "collapsed": false
   },
   "outputs": [],
   "source": [
    "corpus['twits_por_día'] = corpus['User:tweet count'] / corpus['days']"
   ]
  },
  {
   "cell_type": "code",
   "execution_count": 116,
   "metadata": {
    "collapsed": false
   },
   "outputs": [
    {
     "data": {
      "text/plain": [
       "count    92130.000000\n",
       "mean        30.410198\n",
       "std         64.482774\n",
       "min          0.001287\n",
       "25%          3.337275\n",
       "50%         10.733209\n",
       "75%         32.703094\n",
       "max       2015.595658\n",
       "Name: twits_por_día, dtype: float64"
      ]
     },
     "execution_count": 116,
     "metadata": {},
     "output_type": "execute_result"
    }
   ],
   "source": [
    "corpus.twits_por_día.describe()"
   ]
  },
  {
   "cell_type": "markdown",
   "metadata": {},
   "source": [
    "## Usuarios por Día"
   ]
  },
  {
   "cell_type": "code",
   "execution_count": 119,
   "metadata": {
    "collapsed": false
   },
   "outputs": [
    {
     "data": {
      "text/plain": [
       "count    3121.000000\n",
       "mean       29.519385\n",
       "std        29.484824\n",
       "min         1.000000\n",
       "25%        12.000000\n",
       "50%        23.000000\n",
       "75%        39.000000\n",
       "max       617.000000\n",
       "Name: Idioma, dtype: float64"
      ]
     },
     "execution_count": 119,
     "metadata": {},
     "output_type": "execute_result"
    }
   ],
   "source": [
    "corpus['creation_date'] = corpus['User: create date'].dt.date\n",
    "users_per_day = corpus.groupby(corpus['creation_date'])['Idioma'].count()\n",
    "users_per_day.describe()"
   ]
  },
  {
   "cell_type": "code",
   "execution_count": 128,
   "metadata": {
    "collapsed": false,
    "scrolled": true
   },
   "outputs": [
    {
     "data": {
      "text/plain": [
       "<matplotlib.axes._subplots.AxesSubplot at 0xa86fc370>"
      ]
     },
     "execution_count": 128,
     "metadata": {},
     "output_type": "execute_result"
    },
    {
     "data": {
      "image/png": "[encoded data removed]",
      "text/plain": [
       "<matplotlib.figure.Figure at 0xa87933b0>"
      ]
     },
     "metadata": {},
     "output_type": "display_data"
    }
   ],
   "source": [
    "sns.distplot(users_per_day)"
   ]
  },
  {
   "cell_type": "markdown",
   "metadata": {},
   "source": [
    "Esta parece ser una distribución un poco más usable. Utilizaremos el criterio de que los outliers deberían estar fuera del rango de 4 std. Es decir, se deberían haber creado más de 240 cuentas ese día, con esta base de datos, para poder asumir que ese día es un outlier.\n",
    "\n",
    "## Hipótesis\n",
    "\n",
    "Asumiendo que existan operadores de algún tipo, deberíamos inferir que las cuentas se crearon cerca de algún evento significativo. Supongamos, para esta hipótesis, que las cuentas que operan fueron creadas:\n",
    "\n",
    "- El día de la muerte de Néstor Kirchner (2010-10-27)\n",
    "- El día de la asunciónd de Mauricio Macri (2015-12-10)\n",
    "\n",
    "Especial atención merece el período desde el 5 de diciembre, que es cuando se desencadenó el conflicto.\n",
    "\n",
    "Para asumir un P significante, entendemos que estas fechas deberían estar dentro del rango de outliers.\n",
    "\n",
    "## Demostración"
   ]
  },
  {
   "cell_type": "code",
   "execution_count": 135,
   "metadata": {
    "collapsed": false
   },
   "outputs": [
    {
     "data": {
      "text/plain": [
       "creation_date\n",
       "2010-05-07    153\n",
       "2010-05-13    121\n",
       "2010-05-18    159\n",
       "2010-05-19    192\n",
       "2010-05-21    124\n",
       "2010-05-24    138\n",
       "2010-06-05    141\n",
       "2010-06-08    165\n",
       "2010-06-09    138\n",
       "2010-06-10    170\n",
       "2010-07-08    126\n",
       "2010-07-10    231\n",
       "2010-07-12    170\n",
       "2010-07-15    164\n",
       "2010-08-01    132\n",
       "2010-08-03    122\n",
       "2010-08-09    135\n",
       "2010-08-18    155\n",
       "2010-08-20    124\n",
       "2010-09-03    200\n",
       "2010-09-04    168\n",
       "2010-09-05    137\n",
       "2010-09-12    617\n",
       "2010-09-30    146\n",
       "2010-10-13    141\n",
       "2010-10-27    364\n",
       "2010-10-28    136\n",
       "2011-02-14    136\n",
       "2011-07-26    138\n",
       "2013-04-15    122\n",
       "2013-11-21    382\n",
       "2014-12-29    155\n",
       "2015-08-13    141\n",
       "2015-11-11    206\n",
       "2015-11-15    235\n",
       "2015-11-16    151\n",
       "2015-12-14    136\n",
       "2015-12-15    149\n",
       "2016-07-15    186\n",
       "2016-10-09    187\n",
       "Name: Idioma, dtype: int64"
      ]
     },
     "execution_count": 135,
     "metadata": {},
     "output_type": "execute_result"
    }
   ],
   "source": [
    "users_per_day[users_per_day > 120]"
   ]
  },
  {
   "cell_type": "code",
   "execution_count": null,
   "metadata": {
    "collapsed": true
   },
   "outputs": [],
   "source": []
  },
  {
   "cell_type": "markdown",
   "metadata": {},
   "source": [
    "## Conclussions & Findings\n",
    "\n",
    "Efectivamente, para este corpus en particular, las fechas alrededor del 27 de octubre del 2010 hay una cantidad significativa de nuevas cuentas de twitter. Sin embargo, es sólo la mitad de la hipótesis: No se observa ese pico en la fecha de asunción de Mauricio Macri, sino hasta cinco días después. Tampoco se observan, como dato anecdótico, cuando se ganó el ballotage. Ni nuevas cuentas en un ritmo acelerado para diciembre del 2016, cuando se desató el conflicto.\n",
    "\n",
    "Preliminarmente, entendemos que el resultado es inconcluyente.\n",
    "Como pasos posteriores, se recomienda un sampleo de las cuentas creadas alrededor del pico detectado (27, 28 de octubre del 2010) para investigar el tipo de contenido que comarten, así como el rango de fechas del debate presidencial (2015-11-11 al 16).\n",
    "\n",
    "\n",
    "\n",
    "## ADDENDA\n",
    "\n",
    "Este es un análisis preliminar realizado en base a la edad de las cuentas en días, en un espíritu similar a la anterior. Se descarta ya que la distribución absoluta de cuentas por edad no tiene una distribución analizable con el rango de datos que tenemos."
   ]
  },
  {
   "cell_type": "code",
   "execution_count": 130,
   "metadata": {
    "collapsed": false
   },
   "outputs": [
    {
     "name": "stdout",
     "output_type": "stream",
     "text": [
      "487 creados en la muerte de nestor, 1247 en la asuncion de Macri\n"
     ]
    }
   ],
   "source": [
    "MUERE_NESTOR = 2246\n",
    "ASUME_MACRI = 392\n",
    "DELTA = 5\n",
    "print(\"{} creados en la muerte de nestor, {} en la asuncion de Macri\".format(\n",
    "        corpus[corpus['days'].between(MUERE_NESTOR, MUERE_NESTOR+DELTA)]['User: ID'].count(), \n",
    "        corpus[corpus['days'].between(ASUME_MACRI-DELTA*2, ASUME_MACRI+DELTA*2)]['User: ID'].count()))\n"
   ]
  },
  {
   "cell_type": "code",
   "execution_count": 131,
   "metadata": {
    "collapsed": false
   },
   "outputs": [
    {
     "name": "stdout",
     "output_type": "stream",
     "text": [
      "2008-03-30 20:24:23.283200 Mínimo, 2017-05-02 23:11:06.502400 Máximo\n"
     ]
    }
   ],
   "source": [
    "SIGMA = 2 * corpus.days.std()\n",
    "PUNTO_MEDIO = corpus.iloc[0]['Fecha '] - pd.to_timedelta(corpus.days.mean() , unit='d')\n",
    "print(\"{} Mínimo, {} Máximo\".format(PUNTO_MEDIO - pd.to_timedelta(SIGMA, unit='d'), PUNTO_MEDIO + pd.to_timedelta(SIGMA, unit='d')))"
   ]
  },
  {
   "cell_type": "code",
   "execution_count": null,
   "metadata": {
    "collapsed": true
   },
   "outputs": [],
   "source": []
  }
 ],
 "metadata": {
  "kernelspec": {
   "display_name": "Python 3",
   "language": "python",
   "name": "python3"
  },
  "language_info": {
   "codemirror_mode": {
    "name": "ipython",
    "version": 3
   },
   "file_extension": ".py",
   "mimetype": "text/x-python",
   "name": "python",
   "nbconvert_exporter": "python",
   "pygments_lexer": "ipython3",
   "version": "3.4.3"
  }
 },
 "nbformat": 4,
 "nbformat_minor": 0
}
